{
  "nbformat": 4,
  "nbformat_minor": 0,
  "metadata": {
    "colab": {
      "name": "Duplicate_Text_Predictor.ipynb",
      "provenance": []
    },
    "kernelspec": {
      "display_name": "Python 3",
      "language": "python",
      "name": "python3"
    },
    "language_info": {
      "codemirror_mode": {
        "name": "ipython",
        "version": 3
      },
      "file_extension": ".py",
      "mimetype": "text/x-python",
      "name": "python",
      "nbconvert_exporter": "python",
      "pygments_lexer": "ipython3",
      "version": "3.7.6"
    },
    "accelerator": "GPU"
  },
  "cells": [
    {
      "cell_type": "markdown",
      "metadata": {
        "id": "vNGfzrWRzeCI"
      },
      "source": [
        "#**Duplicate Text Predictor**"
      ]
    },
    {
      "cell_type": "code",
      "metadata": {
        "colab": {
          "base_uri": "https://localhost:8080/"
        },
        "id": "xHCzlVBn2vKB",
        "outputId": "39ceb41d-5bb9-4143-ea33-9fa793ac64d2"
      },
      "source": [
        "from google.colab import drive\n",
        "drive.mount('/content/drive')"
      ],
      "execution_count": null,
      "outputs": [
        {
          "output_type": "stream",
          "name": "stdout",
          "text": [
            "Mounted at /content/drive\n"
          ]
        }
      ]
    },
    {
      "cell_type": "code",
      "metadata": {
        "id": "w62eDhaGun1-"
      },
      "source": [
        "import numpy as np \n",
        "import pandas as pd \n",
        "from keras.preprocessing.text import Tokenizer\n",
        "from keras.preprocessing.sequence import pad_sequences\n",
        "from nltk.tokenize import word_tokenize\n",
        "import re\n",
        "from nltk.stem import WordNetLemmatizer\n",
        "from nltk.corpus import stopwords\n",
        "import tensorflow as tf\n",
        "from tensorflow.keras.layers import *\n",
        "from tensorflow.keras.models import Model\n"
      ],
      "execution_count": null,
      "outputs": []
    },
    {
      "cell_type": "markdown",
      "metadata": {
        "id": "tPbZ1oDxun2B"
      },
      "source": [
        "# Read the train and test dataset"
      ]
    },
    {
      "cell_type": "code",
      "metadata": {
        "id": "YyDy9MROun2B"
      },
      "source": [
        "df = pd.read_csv('/content/drive/MyDrive/DSC/NLP_Workshop/train.csv')"
      ],
      "execution_count": null,
      "outputs": []
    },
    {
      "cell_type": "code",
      "metadata": {
        "colab": {
          "base_uri": "https://localhost:8080/",
          "height": 203
        },
        "id": "FnseZ2adun2C",
        "outputId": "d3da7772-1f1a-4cf5-9479-743a4cd0d0ac"
      },
      "source": [
        "df.head()"
      ],
      "execution_count": null,
      "outputs": [
        {
          "output_type": "execute_result",
          "data": {
            "text/html": [
              "<div>\n",
              "<style scoped>\n",
              "    .dataframe tbody tr th:only-of-type {\n",
              "        vertical-align: middle;\n",
              "    }\n",
              "\n",
              "    .dataframe tbody tr th {\n",
              "        vertical-align: top;\n",
              "    }\n",
              "\n",
              "    .dataframe thead th {\n",
              "        text-align: right;\n",
              "    }\n",
              "</style>\n",
              "<table border=\"1\" class=\"dataframe\">\n",
              "  <thead>\n",
              "    <tr style=\"text-align: right;\">\n",
              "      <th></th>\n",
              "      <th>id</th>\n",
              "      <th>qid1</th>\n",
              "      <th>qid2</th>\n",
              "      <th>question1</th>\n",
              "      <th>question2</th>\n",
              "      <th>is_duplicate</th>\n",
              "    </tr>\n",
              "  </thead>\n",
              "  <tbody>\n",
              "    <tr>\n",
              "      <th>0</th>\n",
              "      <td>0</td>\n",
              "      <td>1</td>\n",
              "      <td>2</td>\n",
              "      <td>What is the step by step guide to invest in sh...</td>\n",
              "      <td>What is the step by step guide to invest in sh...</td>\n",
              "      <td>0</td>\n",
              "    </tr>\n",
              "    <tr>\n",
              "      <th>1</th>\n",
              "      <td>1</td>\n",
              "      <td>3</td>\n",
              "      <td>4</td>\n",
              "      <td>What is the story of Kohinoor (Koh-i-Noor) Dia...</td>\n",
              "      <td>What would happen if the Indian government sto...</td>\n",
              "      <td>0</td>\n",
              "    </tr>\n",
              "    <tr>\n",
              "      <th>2</th>\n",
              "      <td>2</td>\n",
              "      <td>5</td>\n",
              "      <td>6</td>\n",
              "      <td>How can I increase the speed of my internet co...</td>\n",
              "      <td>How can Internet speed be increased by hacking...</td>\n",
              "      <td>0</td>\n",
              "    </tr>\n",
              "    <tr>\n",
              "      <th>3</th>\n",
              "      <td>3</td>\n",
              "      <td>7</td>\n",
              "      <td>8</td>\n",
              "      <td>Why am I mentally very lonely? How can I solve...</td>\n",
              "      <td>Find the remainder when [math]23^{24}[/math] i...</td>\n",
              "      <td>0</td>\n",
              "    </tr>\n",
              "    <tr>\n",
              "      <th>4</th>\n",
              "      <td>4</td>\n",
              "      <td>9</td>\n",
              "      <td>10</td>\n",
              "      <td>Which one dissolve in water quikly sugar, salt...</td>\n",
              "      <td>Which fish would survive in salt water?</td>\n",
              "      <td>0</td>\n",
              "    </tr>\n",
              "  </tbody>\n",
              "</table>\n",
              "</div>"
            ],
            "text/plain": [
              "   id  qid1  ...                                          question2 is_duplicate\n",
              "0   0     1  ...  What is the step by step guide to invest in sh...            0\n",
              "1   1     3  ...  What would happen if the Indian government sto...            0\n",
              "2   2     5  ...  How can Internet speed be increased by hacking...            0\n",
              "3   3     7  ...  Find the remainder when [math]23^{24}[/math] i...            0\n",
              "4   4     9  ...            Which fish would survive in salt water?            0\n",
              "\n",
              "[5 rows x 6 columns]"
            ]
          },
          "metadata": {},
          "execution_count": 4
        }
      ]
    },
    {
      "cell_type": "code",
      "metadata": {
        "colab": {
          "base_uri": "https://localhost:8080/"
        },
        "id": "95loxKMaun2C",
        "outputId": "d89c121f-837f-47ed-ba0e-576f62a84103"
      },
      "source": [
        "test_data = pd.read_csv('/content/drive/MyDrive/DSC/NLP_Workshop/test.csv')"
      ],
      "execution_count": null,
      "outputs": [
        {
          "output_type": "stream",
          "name": "stderr",
          "text": [
            "/usr/local/lib/python3.7/dist-packages/IPython/core/interactiveshell.py:2718: DtypeWarning: Columns (0) have mixed types.Specify dtype option on import or set low_memory=False.\n",
            "  interactivity=interactivity, compiler=compiler, result=result)\n"
          ]
        }
      ]
    },
    {
      "cell_type": "code",
      "metadata": {
        "colab": {
          "base_uri": "https://localhost:8080/",
          "height": 203
        },
        "id": "Zw5g0tDF30Jv",
        "outputId": "17375db1-0ddb-4218-d804-a012850c143a"
      },
      "source": [
        "test_data.head()"
      ],
      "execution_count": null,
      "outputs": [
        {
          "output_type": "execute_result",
          "data": {
            "text/html": [
              "<div>\n",
              "<style scoped>\n",
              "    .dataframe tbody tr th:only-of-type {\n",
              "        vertical-align: middle;\n",
              "    }\n",
              "\n",
              "    .dataframe tbody tr th {\n",
              "        vertical-align: top;\n",
              "    }\n",
              "\n",
              "    .dataframe thead th {\n",
              "        text-align: right;\n",
              "    }\n",
              "</style>\n",
              "<table border=\"1\" class=\"dataframe\">\n",
              "  <thead>\n",
              "    <tr style=\"text-align: right;\">\n",
              "      <th></th>\n",
              "      <th>test_id</th>\n",
              "      <th>question1</th>\n",
              "      <th>question2</th>\n",
              "    </tr>\n",
              "  </thead>\n",
              "  <tbody>\n",
              "    <tr>\n",
              "      <th>0</th>\n",
              "      <td>0</td>\n",
              "      <td>How does the Surface Pro himself 4 compare wit...</td>\n",
              "      <td>Why did Microsoft choose core m3 and not core ...</td>\n",
              "    </tr>\n",
              "    <tr>\n",
              "      <th>1</th>\n",
              "      <td>1</td>\n",
              "      <td>Should I have a hair transplant at age 24? How...</td>\n",
              "      <td>How much cost does hair transplant require?</td>\n",
              "    </tr>\n",
              "    <tr>\n",
              "      <th>2</th>\n",
              "      <td>2</td>\n",
              "      <td>What but is the best way to send money from Ch...</td>\n",
              "      <td>What you send money to China?</td>\n",
              "    </tr>\n",
              "    <tr>\n",
              "      <th>3</th>\n",
              "      <td>3</td>\n",
              "      <td>Which food not emulsifiers?</td>\n",
              "      <td>What foods fibre?</td>\n",
              "    </tr>\n",
              "    <tr>\n",
              "      <th>4</th>\n",
              "      <td>4</td>\n",
              "      <td>How \"aberystwyth\" start reading?</td>\n",
              "      <td>How their can I start reading?</td>\n",
              "    </tr>\n",
              "  </tbody>\n",
              "</table>\n",
              "</div>"
            ],
            "text/plain": [
              "  test_id  ...                                          question2\n",
              "0       0  ...  Why did Microsoft choose core m3 and not core ...\n",
              "1       1  ...        How much cost does hair transplant require?\n",
              "2       2  ...                      What you send money to China?\n",
              "3       3  ...                                  What foods fibre?\n",
              "4       4  ...                     How their can I start reading?\n",
              "\n",
              "[5 rows x 3 columns]"
            ]
          },
          "metadata": {},
          "execution_count": 6
        }
      ]
    },
    {
      "cell_type": "code",
      "metadata": {
        "id": "KCgJEctcun2D"
      },
      "source": [
        "X_train = df.iloc[:,:5].values\n",
        "Y_train = df.iloc[:,5:].values"
      ],
      "execution_count": null,
      "outputs": []
    },
    {
      "cell_type": "code",
      "metadata": {
        "id": "KiemkzHOun2E"
      },
      "source": [
        "X_testq1 = test_data.iloc[:400001,1:2].values\n",
        "X_testq2 = test_data.iloc[:400001, 2:].values"
      ],
      "execution_count": null,
      "outputs": []
    },
    {
      "cell_type": "code",
      "metadata": {
        "id": "_8fxQwC0nh79"
      },
      "source": [
        "Testid=test_data.iloc[:400001, 0:1].values"
      ],
      "execution_count": null,
      "outputs": []
    },
    {
      "cell_type": "code",
      "metadata": {
        "id": "utVsxRqbun2E"
      },
      "source": [
        "s1 = X_train[:,3]\n",
        "s2 = X_train[:,4]"
      ],
      "execution_count": null,
      "outputs": []
    },
    {
      "cell_type": "markdown",
      "metadata": {
        "id": "tK_CvFN_un2E"
      },
      "source": [
        "# Text Pre-processing\n"
      ]
    },
    {
      "cell_type": "markdown",
      "metadata": {
        "id": "wksqivThun2F"
      },
      "source": [
        "## Tokenization\n",
        "\n"
      ]
    },
    {
      "cell_type": "code",
      "metadata": {
        "id": "FRF6lYR4un2F"
      },
      "source": [
        "def tokenize(s):\n",
        "    tokens = []\n",
        "    tokens = [word_tokenize(str(sentence)) for sentence in s]\n",
        "\n",
        "    rm1 = []\n",
        "    for w in tokens:\n",
        "        sm = re.sub('[^A-Za-z]',' ', str(w))\n",
        "        x = re.split(\"\\s\", sm)\n",
        "        rm1.append(x)\n",
        "        \n",
        "    return rm1"
      ],
      "execution_count": null,
      "outputs": []
    },
    {
      "cell_type": "markdown",
      "metadata": {
        "id": "D4-FcUckun2F"
      },
      "source": [
        "## Lowercasing\n"
      ]
    },
    {
      "cell_type": "code",
      "metadata": {
        "id": "UgTt44Ahun2M"
      },
      "source": [
        "def lower_case(s):\n",
        "    #Removing whitespaces    \n",
        "    for sent in s:\n",
        "        while '' in sent:\n",
        "            sent.remove('')\n",
        "\n",
        "    # Lowercasing\n",
        "    low = []\n",
        "    for i in s:\n",
        "        i = [x.lower() for x in i]\n",
        "        low.append(i)\n",
        "        \n",
        "    return low\n",
        "    "
      ],
      "execution_count": null,
      "outputs": []
    },
    {
      "cell_type": "markdown",
      "metadata": {
        "id": "s8-6tdNsun2N"
      },
      "source": [
        "## Normalization\n",
        "\n"
      ]
    },
    {
      "cell_type": "code",
      "metadata": {
        "id": "A3UUQUB7un2N"
      },
      "source": [
        "def lemmatize(s):\n",
        "    lemma = []\n",
        "    wnl = WordNetLemmatizer()\n",
        "    for doc in s:\n",
        "        tokens = [wnl.lemmatize(w) for w in doc]\n",
        "        lemma.append(tokens)\n",
        "\n",
        "    # Removing Stopwords\n",
        "    filter_words = []\n",
        "    Stopwords = set(stopwords.words('english'))\n",
        "\n",
        "    #ab = spell('nd')\n",
        "    for sent in lemma:\n",
        "        tokens = [w for w in sent if w not in Stopwords]\n",
        "        filter_words.append(tokens)\n",
        "\n",
        "    space = ' ' \n",
        "    sentences = []\n",
        "    for sentence in filter_words:\n",
        "        sentences.append(space.join(sentence))\n",
        "        \n",
        "    return sentences"
      ],
      "execution_count": null,
      "outputs": []
    },
    {
      "cell_type": "code",
      "metadata": {
        "id": "qq0MzLSsun2O"
      },
      "source": [
        "# sent1 = tokenize(s1)\n",
        "# sent2 = tokenize(s2)\n",
        "# q1 = lower_case(sent1)\n",
        "# q2 = lower_case(sent2)\n",
        "# listq1 = lemmatize(q1)\n",
        "# listq2 = lemmatize(q2)\n",
        "# sent1_t = tokenize(X_test_q1)\n",
        "# sent2_t = tokenize(X_test_q2)\n",
        "# q1_t = lower_case(sent1_t)\n",
        "# q2_t = lower_case(sent2_t)\n",
        "# listq1 = lemmatize(q1_t)\n",
        "# listq2 = lemmatize(q2_t)"
      ],
      "execution_count": null,
      "outputs": []
    },
    {
      "cell_type": "markdown",
      "metadata": {
        "id": "O0-yQg6t2QLz"
      },
      "source": [
        "When approaching a NLP problem, either you can perform all the above mentioned steps in that order or you can use Keras' Tokenizer class to perform tokenization."
      ]
    },
    {
      "cell_type": "markdown",
      "metadata": {
        "id": "t9OlI7joun2O"
      },
      "source": [
        "# Keras text preprocessing\n",
        "\n"
      ]
    },
    {
      "cell_type": "code",
      "metadata": {
        "id": "zdJHzq73un2O"
      },
      "source": [
        "MAX_NB_WORDS = 200000\n",
        "tokenizer = Tokenizer(num_words = MAX_NB_WORDS)\n",
        "tokenizer.fit_on_texts(list(df['question1'].values.astype(str))+list(df['question2'].values.astype(str)))\n"
      ],
      "execution_count": null,
      "outputs": []
    },
    {
      "cell_type": "markdown",
      "metadata": {
        "id": "zWlhCa_Nun2P"
      },
      "source": [
        "## Padding and sequencing\n"
      ]
    },
    {
      "cell_type": "code",
      "metadata": {
        "id": "-_KMw9mmun2P"
      },
      "source": [
        "# X_train_q1 = tokenizer.texts_to_sequences(np.array(listq1))\n",
        "X_train_q1 = tokenizer.texts_to_sequences(df['question1'].values.astype(str))\n",
        "X_train_q1 = pad_sequences(X_train_q1, maxlen = 30, padding='post')\n",
        "\n",
        "# X_train_q2 = tokenizer.texts_to_sequences(np.array(listq2))\n",
        "X_train_q2 = tokenizer.texts_to_sequences(df['question2'].values.astype(str))\n",
        "X_train_q2 = pad_sequences(X_train_q2, maxlen = 30, padding='post')\n"
      ],
      "execution_count": null,
      "outputs": []
    },
    {
      "cell_type": "code",
      "metadata": {
        "id": "NCcJLmSZun2P"
      },
      "source": [
        "X_test_q1 = tokenizer.texts_to_sequences(X_testq1.ravel())\n",
        "X_test_q1 = pad_sequences(X_test_q1,maxlen = 30, padding='post')\n",
        "\n",
        "X_test_q2 = tokenizer.texts_to_sequences(X_testq2.astype(str).ravel())\n",
        "X_test_q2 = pad_sequences(X_test_q2, maxlen = 30, padding='post')"
      ],
      "execution_count": null,
      "outputs": []
    },
    {
      "cell_type": "code",
      "metadata": {
        "id": "VNJvZ6Voun2P"
      },
      "source": [
        "word_index = tokenizer.word_index"
      ],
      "execution_count": null,
      "outputs": []
    },
    {
      "cell_type": "markdown",
      "metadata": {
        "id": "uXHMRUxFun2P"
      },
      "source": [
        "## Loading Glove word embedding"
      ]
    },
    {
      "cell_type": "code",
      "metadata": {
        "id": "ADuK56z_un2P"
      },
      "source": [
        "embedding_index = {}\n",
        "#Glove embeddings with 6 Billion words with each word being a 200 dimensional vector.\n",
        "with open('/content/drive/MyDrive/DSC/NLP_Workshop/glove.6B.200d.txt','r') as f:\n",
        "    for line in f:\n",
        "        values = line.split()\n",
        "        word = values[0]\n",
        "        vectors = np.asarray(values[1:], 'float32')\n",
        "        embedding_index[word] = vectors\n",
        "    f.close()"
      ],
      "execution_count": null,
      "outputs": []
    },
    {
      "cell_type": "code",
      "metadata": {
        "id": "8ZEMFVFvun2Q"
      },
      "source": [
        "embedding_matrix = np.random.random((len(word_index)+1, 200))\n",
        "for word, i in word_index.items():\n",
        "    embedding_vector = embedding_index.get(word)\n",
        "    if embedding_vector is not None:\n",
        "        embedding_matrix[i] = embedding_vector"
      ],
      "execution_count": null,
      "outputs": []
    },
    {
      "cell_type": "markdown",
      "metadata": {
        "id": "zYXc8UAxun2Q"
      },
      "source": [
        "# LSTM"
      ]
    },
    {
      "cell_type": "code",
      "metadata": {
        "id": "wtNWj_mTun2Q"
      },
      "source": [
        "# Model for Q1\n",
        "import tensorflow as tf\n",
        "from tensorflow.keras.layers import BatchNormalization\n",
        "model_q1 = tf.keras.Sequential()\n",
        "model_q1.add(Embedding(input_dim = len(word_index)+1,\n",
        "                       output_dim = 200,\n",
        "                      weights = [embedding_matrix],\n",
        "                      input_length = 30))\n",
        "model_q1.add(LSTM(128, activation = 'tanh', return_sequences = True))\n",
        "model_q1.add(Dropout(0.2))\n",
        "model_q1.add(LSTM(128, return_sequences = True))\n",
        "model_q1.add(LSTM(128))\n",
        "model_q1.add(Dense(2, activation = 'sigmoid'))"
      ],
      "execution_count": null,
      "outputs": []
    },
    {
      "cell_type": "code",
      "metadata": {
        "id": "Old9-Pw0un2R"
      },
      "source": [
        "# Model for Q2\n",
        "model_q2 = tf.keras.Sequential()\n",
        "model_q2.add(Embedding(input_dim = len(word_index)+1,\n",
        "                       output_dim = 200,\n",
        "                      weights = [embedding_matrix],\n",
        "                      input_length = 30))\n",
        "model_q2.add(LSTM(128, activation = 'tanh', return_sequences = True))\n",
        "model_q2.add(Dropout(0.2))\n",
        "model_q2.add(LSTM(128, return_sequences = True))\n",
        "model_q2.add(LSTM(128))\n",
        "model_q2.add(Dense(60, activation = 'tanh'))\n",
        "model_q2.add(Dense(2, activation = 'sigmoid'))"
      ],
      "execution_count": null,
      "outputs": []
    },
    {
      "cell_type": "code",
      "metadata": {
        "id": "wfTbwCnVun2R"
      },
      "source": [
        "# Merging the output of the two models,i.e, model_q1 and model_q2\n",
        "mergedOut = Multiply()([model_q1.output, model_q2.output])\n",
        "\n",
        "mergedOut = Flatten()(mergedOut)\n",
        "mergedOut = Dense(100, activation = 'relu')(mergedOut)\n",
        "mergedOut = Dropout(0.2)(mergedOut)\n",
        "mergedOut = Dense(50, activation = 'relu')(mergedOut)\n",
        "mergedOut = Dropout(0.2)(mergedOut)\n",
        "mergedOut = Dense(2, activation = 'sigmoid')(mergedOut)"
      ],
      "execution_count": null,
      "outputs": []
    },
    {
      "cell_type": "code",
      "metadata": {
        "colab": {
          "base_uri": "https://localhost:8080/"
        },
        "id": "GQ3dmHdxun2R",
        "outputId": "ec377a75-b3ef-42e9-d0ca-3c4ed291e910"
      },
      "source": [
        "new_model = Model([model_q1.input, model_q2.input], mergedOut)\n",
        "new_model.compile(optimizer = 'adam', loss = 'sparse_categorical_crossentropy',\n",
        "                 metrics = ['accuracy'])\n",
        "history = new_model.fit([X_train_q1,X_train_q2],Y_train, batch_size = 2000, epochs = 10)"
      ],
      "execution_count": null,
      "outputs": [
        {
          "output_type": "stream",
          "name": "stdout",
          "text": [
            "Epoch 1/10\n",
            "203/203 [==============================] - 79s 341ms/step - loss: 0.5362 - accuracy: 0.7346\n",
            "Epoch 2/10\n",
            "203/203 [==============================] - 69s 341ms/step - loss: 0.5053 - accuracy: 0.7530\n",
            "Epoch 3/10\n",
            "203/203 [==============================] - 69s 342ms/step - loss: 0.4733 - accuracy: 0.7720\n",
            "Epoch 4/10\n",
            "203/203 [==============================] - 69s 340ms/step - loss: 0.4384 - accuracy: 0.7931\n",
            "Epoch 5/10\n",
            "203/203 [==============================] - 69s 340ms/step - loss: 0.4051 - accuracy: 0.8121\n",
            "Epoch 6/10\n",
            "203/203 [==============================] - 69s 338ms/step - loss: 0.3707 - accuracy: 0.8323\n",
            "Epoch 7/10\n",
            "203/203 [==============================] - 69s 340ms/step - loss: 0.3402 - accuracy: 0.8479\n",
            "Epoch 8/10\n",
            "203/203 [==============================] - 69s 340ms/step - loss: 0.3140 - accuracy: 0.8609\n",
            "Epoch 9/10\n",
            "203/203 [==============================] - 69s 341ms/step - loss: 0.2889 - accuracy: 0.8726\n",
            "Epoch 10/10\n",
            "203/203 [==============================] - 69s 341ms/step - loss: 0.2672 - accuracy: 0.8830\n"
          ]
        }
      ]
    },
    {
      "cell_type": "code",
      "metadata": {
        "id": "tre8oWf6un2R",
        "colab": {
          "base_uri": "https://localhost:8080/"
        },
        "outputId": "babe6cfc-1117-46aa-a09a-6f34cc63d58e"
      },
      "source": [
        "y_pred = new_model.predict([X_test_q1, X_test_q2], batch_size=2000, verbose=1)\n",
        "y_pred += new_model.predict([X_test_q1, X_test_q2], batch_size=2000, verbose=1)\n",
        "y_pred /= 2\n",
        "result=(y_pred[:,0]+y_pred[:,1])/2"
      ],
      "execution_count": null,
      "outputs": [
        {
          "output_type": "stream",
          "name": "stdout",
          "text": [
            "201/201 [==============================] - 22s 97ms/step\n",
            "201/201 [==============================] - 20s 98ms/step\n"
          ]
        }
      ]
    },
    {
      "cell_type": "code",
      "metadata": {
        "id": "Q_7UDTBduxzN"
      },
      "source": [
        "res= pd.DataFrame({'Test_id':Testid, 'Predictions':result})"
      ],
      "execution_count": null,
      "outputs": []
    },
    {
      "cell_type": "code",
      "metadata": {
        "colab": {
          "base_uri": "https://localhost:8080/"
        },
        "id": "KOTrUQtniOGK",
        "outputId": "72a8c777-8422-4ae8-ce14-48975d7b1669"
      },
      "source": [
        "res.to_csv('my_submission.csv', index=False)\n",
        "print(\"Submission saved\")"
      ],
      "execution_count": null,
      "outputs": [
        {
          "output_type": "stream",
          "name": "stdout",
          "text": [
            "Submission saved\n"
          ]
        }
      ]
    }
  ]
}